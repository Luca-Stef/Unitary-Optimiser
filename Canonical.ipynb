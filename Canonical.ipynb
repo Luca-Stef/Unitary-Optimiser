{
 "cells": [
  {
   "cell_type": "markdown",
   "metadata": {},
   "source": [
    "NumPy attempt"
   ]
  },
  {
   "cell_type": "code",
   "execution_count": 1,
   "metadata": {},
   "outputs": [],
   "source": [
    "import numpy as np\n",
    "from ncon import ncon\n",
    "import matplotlib.pyplot as plt"
   ]
  },
  {
   "cell_type": "code",
   "execution_count": 2,
   "metadata": {},
   "outputs": [],
   "source": [
    "def rnd(*x):\n",
    "    return np.random.randn(*x) + 1j*np.random.randn(*x)\n",
    "\n",
    "def overlap(nodes): # needs revising\n",
    "\n",
    "    mps = []\n",
    "    rank = len(nodes)\n",
    "    indices = []\n",
    "    dummy = 1\n",
    "    for i in range(rank):\n",
    "        if i == op_site:\n",
    "            mps += [nodes[op_site], o, nodes[op_site].conj()]\n",
    "            indices += [dummy, dummy+2, dummy+4], [dummy+2, dummy+3], [dummy+1, dummy+3, dummy+5]\n",
    "            dummy += 4\n",
    "            continue\n",
    "        mps += [nodes[i], nodes[i].conj()]\n",
    "        if i == 0:\n",
    "            indices += [dummy, dummy+1], [dummy, dummy+2]\n",
    "            dummy += 1\n",
    "            continue\n",
    "        if i == rank-1:\n",
    "            indices += [dummy, dummy+2], [dummy+1, dummy+2]\n",
    "            break\n",
    "        indices += [dummy, dummy+2, dummy+3], [dummy+1, dummy+2, dummy+4]\n",
    "        dummy += 3\n",
    "    \n",
    "    return ncon(mps, indices)\n",
    "\n",
    "def left_env(nodes, site):\n",
    "    \"\"\"\n",
    "    Evironment to the left of site specified (sites numbered left to right starting from 1). \n",
    "    \"\"\"\n",
    "    mps = []\n",
    "    indices = []\n",
    "    dummy = 1\n",
    "    for i in range(site-1):\n",
    "        mps += [nodes[i], nodes[i].conj()]\n",
    "        if site == 2:\n",
    "            indices += [dummy, -1], [dummy, -2]\n",
    "            break\n",
    "        elif i == 0:\n",
    "            indices += [dummy, dummy+1], [dummy, dummy+2]\n",
    "            dummy += 1\n",
    "            continue\n",
    "        elif i == site-2:\n",
    "            indices += [dummy, dummy+2, -1], [dummy+1, dummy+2, -2]\n",
    "            break\n",
    "        indices += [dummy, dummy+2, dummy+3], [dummy+1, dummy+2, dummy+4]\n",
    "        dummy += 3\n",
    "\n",
    "    return ncon(mps, indices)\n",
    "\n",
    "def right_env(nodes, site):\n",
    "    \"\"\"\n",
    "    Evironment to the left of site specified (sites numbered left to right starting from 1).\n",
    "    \"\"\"\n",
    "    rank = len(nodes)\n",
    "    mps = []\n",
    "    indices = []\n",
    "    dummy = 1\n",
    "    for i in range(site, rank):\n",
    "        mps += [nodes[i], nodes[i].conj()]\n",
    "        if site == rank-1:\n",
    "            indices += [-1, dummy], [-2, dummy]\n",
    "            break\n",
    "        if i == site:\n",
    "            indices += [-1, dummy, dummy+1], [-2, dummy, dummy+2] \n",
    "            dummy += 1\n",
    "            continue\n",
    "        elif i == rank-1:\n",
    "            indices += [dummy, dummy+2], [dummy+1, dummy+2]\n",
    "            break\n",
    "        indices += [dummy, dummy+2, dummy+3], [dummy+1, dummy+2, dummy+4]\n",
    "        dummy += 3\n",
    "\n",
    "    return ncon(mps, indices)\n",
    "\n",
    "def norm(nodes):\n",
    "\n",
    "    mps = []\n",
    "    rank = len(nodes)\n",
    "    indices = []\n",
    "    dummy = 1\n",
    "    for i in range(rank):\n",
    "\n",
    "        mps += [nodes[i], nodes[i].conj()]\n",
    "        if i == 0:\n",
    "            indices += [dummy, dummy+1], [dummy, dummy+2]\n",
    "            dummy += 1\n",
    "            continue\n",
    "        if i == rank-1:\n",
    "            indices += [dummy, dummy+2], [dummy+1, dummy+2]\n",
    "            break\n",
    "        indices += [dummy, dummy+2, dummy+3], [dummy+1, dummy+2, dummy+4]\n",
    "        dummy += 3\n",
    "\n",
    "    return ncon(mps, indices)\n",
    "\n",
    "def retrieve(nodes, bitstring):\n",
    "\n",
    "    rank = len(nodes)\n",
    "    indices = []\n",
    "    dummy = 1\n",
    "    for i in range(rank):\n",
    "\n",
    "        if i == 0:\n",
    "            indices += [[-(i+1), dummy]]\n",
    "            continue\n",
    "        if i == rank-1:\n",
    "            indices += [[dummy, -(i+1)]]\n",
    "            break\n",
    "        indices += [[dummy, -(i+1), dummy+1]]\n",
    "        dummy += 1\n",
    "\n",
    "    return ncon(nodes, indices)[bitstring]"
   ]
  },
  {
   "cell_type": "code",
   "execution_count": 3,
   "metadata": {},
   "outputs": [],
   "source": [
    "def canonicalise(d=2, D=9, rank=7, bitstring = (0,1,0,1,0)):\n",
    "    \"\"\" \n",
    "    Legend: \n",
    "    first:  nodes[site][physical, virtual]\n",
    "    middle: nodes[site][virtual, physical, virtual]\n",
    "    last:   nodes[site][virtual, physical] \n",
    "    \"\"\"\n",
    "\n",
    "    nodes = [rnd(d,D), *[rnd(D,d,D) for i in range(rank-2)], rnd(D,d)] \n",
    "\n",
    "    nrm = norm(nodes)\n",
    "    cmp = retrieve(nodes, bitstring)\n",
    "\n",
    "    # L -> R\n",
    "    for i in range(rank-1):\n",
    "        \n",
    "        if not i == 0:\n",
    "            nodes[i] = nodes[i].reshape(nodes[i].shape[0]*nodes[i].shape[1],D)\n",
    "\n",
    "        # svd\n",
    "        svd = np.linalg.svd(nodes[i])\n",
    "        s = np.zeros(nodes[i].shape)\n",
    "        np.fill_diagonal(s, svd[1])\n",
    "\n",
    "        if i == 0:\n",
    "            # contract to form new nodes from svd\n",
    "            nodes[i] = svd[0]\n",
    "            nodes[i+1] = np.einsum(\"ij,jk,klm->ilm\", s, svd[2], nodes[i+1])\n",
    "\n",
    "        elif i == rank-2:\n",
    "            # contract to form new nodes from svd\n",
    "            nodes[i] = svd[0].reshape(nodes[i-1].shape[-1],d,-1) \n",
    "            nodes[i+1] = np.einsum(\"ij,jk,kl->il\", s, svd[2], nodes[i+1])\n",
    "\n",
    "        else:\n",
    "            # contract to form new nodes from svd\n",
    "            nodes[i] = svd[0].reshape(nodes[i-1].shape[-1],d,-1) \n",
    "            nodes[i+1] = np.einsum(\"ij,jk,klm->ilm\", s, svd[2], nodes[i+1])\n",
    "\n",
    "        # checks\n",
    "        assert np.isclose(nrm, norm(nodes))\n",
    "        assert np.allclose(cmp, retrieve(nodes, bitstring))\n",
    "\n",
    "    # checks\n",
    "    assert np.allclose(left_env(nodes, 3), np.eye(left_env(nodes, 3).shape[0]))\n",
    "    assert np.isclose(nrm, norm(nodes))\n",
    "    assert np.allclose(cmp, retrieve(nodes, bitstring))\n",
    "\n",
    "    # R -> L\n",
    "    for i in range(rank-1, 0, -1):\n",
    "\n",
    "        if i == rank-1:\n",
    "            # svd the evironment to the right of site i\n",
    "            R = nodes[i] @ nodes[i].T.conj()\n",
    "\n",
    "        else:\n",
    "            # svd the evironment to the right of site i\n",
    "            R = ncon([nodes[i], nodes[i].conj(), R], [[-1,2,3], [-2,2,4], [3,4]])\n",
    "\n",
    "        svd = np.linalg.svd(R)\n",
    "        s = np.zeros(R.shape)\n",
    "        np.fill_diagonal(s, svd[1])\n",
    "\n",
    "        # gauge transformations\n",
    "        if i == rank-1:\n",
    "            nodes[i] = np.einsum(\"ij,jk->ik\", svd[2], nodes[i])\n",
    "            nodes[i-1] = np.einsum(\"ijk,kl->ijl\", nodes[i-1], svd[0])\n",
    "\n",
    "        elif i == 1:\n",
    "            nodes[i] = np.einsum(\"ij,jkl->ikl\", svd[2], nodes[i])\n",
    "            nodes[i-1] = np.einsum(\"ij,jk->ik\", nodes[i-1], svd[0])\n",
    "\n",
    "        else:\n",
    "            nodes[i] = np.einsum(\"ij,jkl->ikl\", svd[2], nodes[i])\n",
    "            nodes[i-1] = np.einsum(\"ijk,kl->ijl\", nodes[i-1], svd[0])\n",
    "\n",
    "        R = svd[2] @ R @ svd[0]\n",
    "\n",
    "    # checks\n",
    "    assert np.isclose(nrm, norm(nodes))\n",
    "    assert np.allclose(cmp, retrieve(nodes, bitstring))\n",
    "\n",
    "    return nodes"
   ]
  },
  {
   "cell_type": "code",
   "execution_count": 4,
   "metadata": {},
   "outputs": [],
   "source": [
    "nodes = canonicalise()"
   ]
  },
  {
   "cell_type": "markdown",
   "metadata": {},
   "source": [
    "Quimb Attempt"
   ]
  },
  {
   "cell_type": "code",
   "execution_count": null,
   "metadata": {},
   "outputs": [],
   "source": [
    "import quimb as qu\n",
    "import quimb.tensor as qtn"
   ]
  },
  {
   "cell_type": "code",
   "execution_count": null,
   "metadata": {},
   "outputs": [],
   "source": [
    "a1 = qtn.Tensor(qu.rand_ket(4, seed=1).reshape(2, 2), inds=(\"p0\", \"b0\"), tags=\"a1\")\n",
    "b1 = qtn.Tensor(qu.rand_ket(4, seed=1).reshape(2, 2), inds=(\"p0\", \"b1\"), tags=\"b1\")\n",
    "a2 = qtn.Tensor(qu.rand_ket(8, seed=2).reshape(2, 2, 2), inds=(\"b0\", \"p1\", \"b2\"), tags=\"a2\")\n",
    "b2 = qtn.Tensor(qu.rand_ket(8, seed=2).reshape(2, 2, 2), inds=(\"b1\", \"p1\", \"b3\"), tags=\"b2\")\n",
    "a3 = qtn.Tensor(qu.rand_ket(8, seed=3).reshape(2, 2, 2), inds=(\"b2\", \"p2\", \"b4\"), tags=\"a3\")\n",
    "o = qtn.Tensor(qu.rand_ket(4).reshape(2, 2), inds=(\"p2\", \"p3\"), tags=\"o\")\n",
    "b3 = qtn.Tensor(qu.rand_ket(8, seed=3).reshape(2, 2, 2), inds=(\"b3\", \"p3\", \"b5\"), tags=\"b3\")\n",
    "a4 = qtn.Tensor(qu.rand_ket(8, seed=4).reshape(2, 2, 2), inds=(\"b4\", \"p4\", \"b6\"), tags=\"a4\")\n",
    "b4 = qtn.Tensor(qu.rand_ket(8, seed=4).reshape(2, 2, 2), inds=(\"b5\", \"p4\", \"b7\"), tags=\"b4\")\n",
    "a5 = qtn.Tensor(qu.rand_ket(4, seed=5).reshape(2, 2), inds=(\"b6\", \"p5\"), tags=\"a5\")\n",
    "b5 = qtn.Tensor(qu.rand_ket(4, seed=5).reshape(2, 2), inds=(\"b7\", \"p5\"), tags=\"b5\")\n",
    "\n",
    "TN = a1 & b1 & a2 & b2 & a3 & o & b3 & a4 & b4 & a5 & b5\n",
    "TN.draw(show_inds=\"all\", font_size_inner=10)"
   ]
  },
  {
   "cell_type": "code",
   "execution_count": null,
   "metadata": {},
   "outputs": [],
   "source": [
    "TN = a1 & a1 & a2 & b2 & a3 & o & b3 & a4 & b4 & a5 & b5\n",
    "TN.draw(show_inds=\"all\", font_size_inner=10)"
   ]
  },
  {
   "cell_type": "code",
   "execution_count": null,
   "metadata": {},
   "outputs": [],
   "source": [
    "TN = (a1 @ a2) & (b1 @ b2) & a3 & o & b3 & (a4 @ a5) & (b4 @ b5)\n",
    "TN.draw(show_inds=\"all\", font_size_inner=10)"
   ]
  },
  {
   "cell_type": "code",
   "execution_count": null,
   "metadata": {},
   "outputs": [],
   "source": [
    "TN.reindex({\"0\": \"0\", \"3\": \"0\", \"10\": \"10\", \"13\": \"10\"}, inplace=True)\n",
    "TN.draw(show_inds=\"all\", font_size_inner=10)"
   ]
  },
  {
   "cell_type": "code",
   "execution_count": null,
   "metadata": {},
   "outputs": [],
   "source": [
    "TN[{\"a1\", \"a2\"}].data.reshape(4,2)\n",
    "TN[{\"b1\", \"b2\"}].data.reshape(4,2)\n",
    "TN[{\"a4\", \"a5\"}].data.reshape(2,4)\n",
    "TN[{\"b4\", \"b5\"}].data.reshape(2,4)"
   ]
  },
  {
   "cell_type": "code",
   "execution_count": null,
   "metadata": {},
   "outputs": [],
   "source": [
    "TN[{\"a1\", \"a2\"}].data.reshape(4,2)"
   ]
  },
  {
   "cell_type": "markdown",
   "metadata": {},
   "source": [
    "TensorNetwork Attempt"
   ]
  },
  {
   "cell_type": "code",
   "execution_count": null,
   "metadata": {},
   "outputs": [],
   "source": [
    "import tensornetwork as tn\n",
    "import matplotlib.pyplot as plt"
   ]
  },
  {
   "cell_type": "code",
   "execution_count": null,
   "metadata": {},
   "outputs": [],
   "source": [
    "phys_dim = 2\n",
    "bond_dim = 2\n",
    "rank = 5\n",
    "opindex = rank//2"
   ]
  },
  {
   "cell_type": "code",
   "execution_count": null,
   "metadata": {},
   "outputs": [],
   "source": [
    "# build the mps:\n",
    "# the state is canonically normalized when we define the class FiniteMPS\n",
    "mps = tn.FiniteMPS.random(\n",
    "  d = [phys_dim for _ in range(rank)],\n",
    "  D = [bond_dim for _ in range(rank-1)],\n",
    "  dtype = np.float32\n",
    "  )\n",
    "\n",
    "mps.tensors[0] = mps.tensors[0].reshape(2,2)\n",
    "mps.tensors[-1] = mps.tensors[-1].reshape(2,2)"
   ]
  },
  {
   "cell_type": "code",
   "execution_count": null,
   "metadata": {},
   "outputs": [],
   "source": [
    "# connect the edges in the mps and conjugate mps\n",
    "uppernodes = [tn.Node(tensor, f'A{i}') for i, tensor in enumerate(mps.tensors)]\n",
    "lowernodes = [tn.Node(tensor.conj(), f'B{i}') for i, tensor in enumerate(mps.tensors)]\n",
    "opnode = tn.Node(np.random.randn(phys_dim, phys_dim), \"o\")\n",
    "\n",
    "upper_edgs = [uppernodes[0][1] ^ uppernodes[1][0]]\n",
    "lower_edgs = [lowernodes[0][1] ^ lowernodes[1][0]]\n",
    "phys_edgs = [uppernodes[0][0] ^ lowernodes[0][0]]\n",
    "for k in range(rank-2):\n",
    "  upper_edgs.append(uppernodes[k+1].edges[2] ^ uppernodes[k+2].edges[0])\n",
    "  lower_edgs.append(lowernodes[k+1].edges[2] ^ lowernodes[k+2].edges[0])\n",
    "for k in range(rank-1):\n",
    "  if k+1 == opindex:\n",
    "    phys_edgs.append(uppernodes[opindex][1] ^ opnode[0])\n",
    "    phys_edgs.append(lowernodes[opindex][1] ^ opnode[1])\n",
    "    continue\n",
    "  phys_edgs.append(uppernodes[k+1].edges[1] ^ lowernodes[k+1].edges[1])"
   ]
  },
  {
   "cell_type": "code",
   "execution_count": null,
   "metadata": {},
   "outputs": [],
   "source": [
    "phys_edgs"
   ]
  },
  {
   "cell_type": "code",
   "execution_count": null,
   "metadata": {},
   "outputs": [],
   "source": [
    "# contraction\n",
    "tn.contractors.auto(uppernodes + lowernodes + opnode)"
   ]
  },
  {
   "cell_type": "markdown",
   "metadata": {},
   "source": [
    "L -> R"
   ]
  },
  {
   "cell_type": "code",
   "execution_count": null,
   "metadata": {},
   "outputs": [],
   "source": [
    "svdup = tn.split_node_full_svd(uppernodes[0], left_edges=[phys_edgs[0]], right_edges=[upper_edgs[0]])\n",
    "svdlow = tn.split_node_full_svd(lowernodes[0], left_edges=[phys_edgs[0]], right_edges=[lower_edgs[0]])\n",
    "#tn.contractors.auto(uppernodes + lowernodes)"
   ]
  },
  {
   "cell_type": "code",
   "execution_count": null,
   "metadata": {},
   "outputs": [],
   "source": [
    "svdup"
   ]
  },
  {
   "cell_type": "markdown",
   "metadata": {},
   "source": [
    "R -> L"
   ]
  }
 ],
 "metadata": {
  "kernelspec": {
   "display_name": "Python 3.10.8 64-bit (microsoft store)",
   "language": "python",
   "name": "python3"
  },
  "language_info": {
   "codemirror_mode": {
    "name": "ipython",
    "version": 3
   },
   "file_extension": ".py",
   "mimetype": "text/x-python",
   "name": "python",
   "nbconvert_exporter": "python",
   "pygments_lexer": "ipython3",
   "version": "3.10.8"
  },
  "orig_nbformat": 4,
  "vscode": {
   "interpreter": {
    "hash": "29b11319cf0179cc51991dc5f7beb4e7e3226e80310d496f5a6837462b7b1381"
   }
  }
 },
 "nbformat": 4,
 "nbformat_minor": 2
}
